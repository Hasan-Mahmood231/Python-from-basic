{
 "cells": [
  {
   "cell_type": "markdown",
   "id": "84a9f7e4",
   "metadata": {},
   "source": [
    "-loops in python\n",
    "    -while loop"
   ]
  },
  {
   "cell_type": "code",
   "execution_count": null,
   "id": "b32b880a",
   "metadata": {},
   "outputs": [
    {
     "name": "stdout",
     "output_type": "stream",
     "text": [
      "Correct! Number is 3\n"
     ]
    }
   ],
   "source": [
    "num = int(input(\"enter the number\"))\n",
    "while num<1 or num>10:\n",
    "    print(f\"{num} is wrong pleas enter number between 1 & 10 :\")\n",
    "    num = int(input(\"enter the number :\"))\n",
    "print(f\"Correct! Number is {num} \")"
   ]
  },
  {
   "cell_type": "code",
   "execution_count": 11,
   "id": "7a41c98f",
   "metadata": {},
   "outputs": [
    {
     "name": "stdout",
     "output_type": "stream",
     "text": [
      "\n",
      "*\n",
      "**\n",
      "***\n",
      "****\n",
      "*****\n",
      "******\n",
      "*******\n",
      "********\n",
      "*********\n"
     ]
    }
   ],
   "source": [
    "# star  = int(input(\"enter the number of stars \"))\n",
    "for i in range(10):\n",
    "    for j in range(i):\n",
    "        print(f\"*\",end=\"\")\n",
    "    print()"
   ]
  },
  {
   "cell_type": "code",
   "execution_count": null,
   "id": "011f07bf",
   "metadata": {},
   "outputs": [],
   "source": [
    "for j in range(4):\n",
    "    for i in range()"
   ]
  }
 ],
 "metadata": {
  "kernelspec": {
   "display_name": "Python 3",
   "language": "python",
   "name": "python3"
  },
  "language_info": {
   "codemirror_mode": {
    "name": "ipython",
    "version": 3
   },
   "file_extension": ".py",
   "mimetype": "text/x-python",
   "name": "python",
   "nbconvert_exporter": "python",
   "pygments_lexer": "ipython3",
   "version": "3.12.7"
  }
 },
 "nbformat": 4,
 "nbformat_minor": 5
}
